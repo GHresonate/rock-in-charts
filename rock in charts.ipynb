{
 "cells": [
  {
   "cell_type": "code",
   "execution_count": 1,
   "metadata": {
    "scrolled": true
   },
   "outputs": [],
   "source": [
    "#sources:\n",
    "#https://www.kaggle.com/datasets/dhruvildave/billboard-the-hot-100-songs\n",
    "#https://www.kaggle.com/datasets/lukaszamora/history-of-rock-19502020?resource=download"
   ]
  },
  {
   "cell_type": "code",
   "execution_count": 2,
   "metadata": {},
   "outputs": [],
   "source": [
    "from ipywidgets import interact\n",
    "import ipywidgets as widgets\n",
    "import re\n",
    "import pandas as pd\n",
    "import numpy as np\n",
    "import matplotlib.pyplot as plt\n",
    "from ipywidgets import interact\n",
    "import ipywidgets as widgets"
   ]
  },
  {
   "cell_type": "code",
   "execution_count": 3,
   "metadata": {},
   "outputs": [],
   "source": [
    "class ToMuchChosenException(Exception):\n",
    "    def __init__(self):\n",
    "        self.message = (\"You can choose only one or two attributes\")\n",
    "    def __str__(self):\n",
    "        return self.message"
   ]
  },
  {
   "cell_type": "code",
   "execution_count": 4,
   "metadata": {},
   "outputs": [],
   "source": [
    "rock = pd.read_csv('../Downloads/history-of-rock-spotify.csv')\n",
    "charts = pd.read_csv('../Downloads/charts.csv')"
   ]
  },
  {
   "cell_type": "code",
   "execution_count": 5,
   "metadata": {},
   "outputs": [],
   "source": [
    "charts['year'] = charts['date'].str[0:4].apply(int)\n",
    "charts = charts.drop(['last-week'], axis=1)\n",
    "charts = charts[charts['rank']==charts['peak-rank']]\n",
    "charts['song'] = charts['song'].apply(lambda x: re.sub('\\(([\\w]*)( )*From ([\\w\" ]*)\\)', \"\", str(x)))"
   ]
  },
  {
   "cell_type": "code",
   "execution_count": 6,
   "metadata": {},
   "outputs": [],
   "source": [
    "rock = rock.drop(['index'], axis=1)\n",
    "rock['name'] = rock['name'].apply(lambda x: re.sub(\" - ([\\w]*)( )*Remaster([\\w]*)( )*([\\w]*)\", \"\", str(x)))\n",
    "rock['name'] = rock['name'].apply(lambda x: re.sub(\" - ([\\w]*)( )*Version\", \"\", str(x)))"
   ]
  },
  {
   "cell_type": "code",
   "execution_count": 7,
   "metadata": {},
   "outputs": [],
   "source": [
    "rock_in_chart = pd.merge(rock,charts, how='inner', left_on=['name', 'artist'], right_on=['song','artist'])\n",
    "rock_in_chart = rock_in_chart.sort_values('date')\n",
    "rock_in_chart = rock_in_chart.drop(columns = ['time_signature', 'rank', 'danceability.1', 'key', 'release_date', 'popularity'])"
   ]
  },
  {
   "cell_type": "code",
   "execution_count": 8,
   "metadata": {},
   "outputs": [],
   "source": [
    "potential_columns=['peak-rank',\n",
    "                   'weeks-on-board',\n",
    "                   'length',\n",
    "                   'tempo',\n",
    "                   'instrumentalness',\n",
    "                   'acousticness',\n",
    "                   'danceability',\n",
    "                   'energy',\n",
    "                   'liveness',\n",
    "                   'loudness',\n",
    "                   'speechiness',\n",
    "                   'valence',\n",
    "                   ]"
   ]
  },
  {
   "cell_type": "code",
   "execution_count": 9,
   "metadata": {},
   "outputs": [],
   "source": [
    "years = rock_in_chart.groupby('year').count()>30\n",
    "rock_in_chart = rock_in_chart.groupby('year').median()[years]"
   ]
  },
  {
   "cell_type": "code",
   "execution_count": 11,
   "metadata": {},
   "outputs": [
    {
     "data": {
      "application/vnd.jupyter.widget-view+json": {
       "model_id": "454cea2289094a6b960ac86e3c45374f",
       "version_major": 2,
       "version_minor": 0
      },
      "text/plain": [
       "interactive(children=(SelectMultiple(description='Columns', index=(0,), options=('peak-rank', 'weeks-on-board'…"
      ]
     },
     "metadata": {},
     "output_type": "display_data"
    }
   ],
   "source": [
    "@interact(col_names=widgets.SelectMultiple(\n",
    "    options=potential_columns,\n",
    "    value=(potential_columns[0],),\n",
    "    description='Columns'))\n",
    "def plot_data(col_names):\n",
    "    plt.figure(figsize=[12,8])\n",
    "    plt.gcf().suptitle(str(col_names))\n",
    "    plt.rcParams.update({'font.size': 14})\n",
    "    plt.xlabel('year')\n",
    "    if len(col_names) == 2:\n",
    "        plt.plot(rock_in_chart[list(col_names)[0]],'b')\n",
    "        plt.ylabel(col_names[0])\n",
    "        ax=plt.twinx()\n",
    "        ax.plot(rock_in_chart[list(col_names)[1]],'r')\n",
    "        plt.ylabel(col_names[1])\n",
    "    elif len(col_names) == 3:\n",
    "        raise ToMuchChosenException()\n",
    "    else:\n",
    "        plt.ylabel(col_names[0])\n",
    "        plt.plot(rock_in_chart[list(col_names)], 'b')"
   ]
  }
 ],
 "metadata": {
  "kernelspec": {
   "display_name": "Python 3",
   "language": "python",
   "name": "python3"
  },
  "language_info": {
   "codemirror_mode": {
    "name": "ipython",
    "version": 3
   },
   "file_extension": ".py",
   "mimetype": "text/x-python",
   "name": "python",
   "nbconvert_exporter": "python",
   "pygments_lexer": "ipython3",
   "version": "3.7.3"
  }
 },
 "nbformat": 4,
 "nbformat_minor": 2
}
